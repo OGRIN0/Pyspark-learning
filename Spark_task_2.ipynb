{
 "cells": [
  {
   "cell_type": "code",
   "execution_count": 20,
   "metadata": {
    "colab": {
     "base_uri": "https://localhost:8080/"
    },
    "id": "ud9JxBagCTst",
    "outputId": "ccd80557-6af8-4370-a222-07b610832540"
   },
   "outputs": [
    {
     "name": "stdout",
     "output_type": "stream",
     "text": [
      "+-----------+----------------+------+-----------------+------------------+\n",
      "|customer_id|transaction_date|amount|cumulative_amount|rolling_avg_amount|\n",
      "+-----------+----------------+------+-----------------+------------------+\n",
      "|          1|      2023-01-15|150.75|           150.75|            150.75|\n",
      "|          2|      2023-01-18|  87.4|             87.4|              87.4|\n",
      "|          3|      2023-01-20| 205.5|            205.5|             205.5|\n",
      "|          4|      2023-01-22| 67.25|            67.25|             67.25|\n",
      "|          5|      2023-01-25|320.99|           320.99|            320.99|\n",
      "|          6|      2023-02-01|  89.1|             89.1|              89.1|\n",
      "|          7|      2023-02-10|  75.2|             75.2|              75.2|\n",
      "|          8|      2023-02-12| 145.5|            145.5|             145.5|\n",
      "|          9|      2023-02-18| 230.0|            230.0|             230.0|\n",
      "|         10|      2023-02-28|310.75|           310.75|            310.75|\n",
      "+-----------+----------------+------+-----------------+------------------+\n",
      "\n"
     ]
    }
   ],
   "source": [
    "from pyspark.sql import SparkSession\n",
    "from pyspark.sql.types import *\n",
    "from pyspark.sql.window import *\n",
    "from pyspark.sql.functions import *\n",
    "\n",
    "spark = SparkSession.builder.appName('guard').getOrCreate()\n",
    "\n",
    "schema = StructType([\n",
    "    StructField(\"customer_id\", IntegerType(), nullable=False),\n",
    "    StructField(\"transaction_date\", StringType(), nullable=False),\n",
    "    StructField(\"amount\", DoubleType(), nullable=False)\n",
    "])\n",
    "\n",
    "data = [\n",
    "    (1, \"2023-01-15\", 150.75),\n",
    "    (2, \"2023-01-18\", 87.40),\n",
    "    (3, \"2023-01-20\", 205.50),\n",
    "    (4, \"2023-01-22\", 67.25),\n",
    "    (5, \"2023-01-25\", 320.99),\n",
    "    (6, \"2023-02-01\", 89.10),\n",
    "    (7, \"2023-02-10\", 75.20),\n",
    "    (8, \"2023-02-12\", 145.50),\n",
    "    (9, \"2023-02-18\", 230.00),\n",
    "    (10, \"2023-02-28\", 310.75)\n",
    "]\n",
    "\n",
    "columns = [\"customer_id\", \"transaction_date\", \"amount\"]\n",
    "transactions = spark.createDataFrame(data, columns)\n",
    "transactions = transactions.withColumn(\"transaction_date\", col('transaction_date').cast('date'))\n",
    "\n",
    "window = Window.partitionBy('customer_id').orderBy('transaction_date').rowsBetween(Window.unboundedPreceding, Window.currentRow)\n",
    "cum_transaction = transactions.withColumn('cumulative_amount', sum('amount').over(window))\n",
    "\n",
    "roll_7_avg = Window.partitionBy('customer_id').orderBy('transaction_date').rowsBetween(-6, 0)\n",
    "trans_avg = cum_transaction.withColumn('rolling_avg_amount', avg('amount').over(roll_7_avg))\n",
    "\n",
    "trans_avg.show()\n"
   ]
  },
  {
   "cell_type": "code",
   "execution_count": null,
   "metadata": {
    "id": "JPYdGLRkDgoW"
   },
   "outputs": [],
   "source": [
    "_avg"
   ]
  },
  {
   "cell_type": "code",
   "execution_count": null,
   "metadata": {
    "id": "zu2WHQ7bDggZ"
   },
   "outputs": [],
   "source": []
  },
  {
   "cell_type": "code",
   "execution_count": null,
   "metadata": {
    "id": "pZxGpRU_DgUM"
   },
   "outputs": [],
   "source": []
  },
  {
   "cell_type": "code",
   "execution_count": null,
   "metadata": {
    "id": "U_f3OkPfDgJK"
   },
   "outputs": [],
   "source": []
  }
 ],
 "metadata": {
  "colab": {
   "provenance": []
  },
  "kernelspec": {
   "display_name": "Python 3",
   "name": "python3"
  },
  "language_info": {
   "name": "python"
  }
 },
 "nbformat": 4,
 "nbformat_minor": 0
}
