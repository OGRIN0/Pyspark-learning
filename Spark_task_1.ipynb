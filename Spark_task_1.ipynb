{
 "cells": [
  {
   "cell_type": "code",
   "execution_count": 39,
   "metadata": {
    "colab": {
     "base_uri": "https://localhost:8080/"
    },
    "id": "kxIiqaV4d7DG",
    "outputId": "e3a1601a-ed1e-47e3-f40b-1c093fae9e92"
   },
   "outputs": [
    {
     "name": "stdout",
     "output_type": "stream",
     "text": [
      "+-------+-------------------+-----------------+--------------+\n",
      "|user_id|total_spent_by_user|avg_spent_by_user|      category|\n",
      "+-------+-------------------+-----------------+--------------+\n",
      "|    101|             299.88|           299.88|   Electronics|\n",
      "|    102|              59.99|            59.99|      Clothing|\n",
      "|    103|              42.75|            42.75|Home & Kitchen|\n",
      "|    104|              134.2|            134.2|        Sports|\n",
      "|    105|             199.99|           199.99|   Electronics|\n",
      "|    106|               89.5|             89.5|        Beauty|\n",
      "|    107|              25.99|            25.99|         Books|\n",
      "|    108|               78.2|             78.2|Home & Kitchen|\n",
      "|    109|               42.1|             42.1|      Clothing|\n",
      "|    110|             150.75|           150.75|   Electronics|\n",
      "+-------+-------------------+-----------------+--------------+\n",
      "\n"
     ]
    }
   ],
   "source": [
    "from pyspark.sql import SparkSession\n",
    "from pyspark.sql.types import *\n",
    "from pyspark.sql.window import *\n",
    "from pyspark.sql.functions import *\n",
    "\n",
    "\n",
    "spark = SparkSession.builder.appName(\"SparkByExamples.com\").getOrCreate()\n",
    "\n",
    "schema = StructType([\n",
    "    StructField(\"trsnsaction_id\",StringType(),nullable = False),\n",
    "    StructField(\"user_id\",StringType(),nullable = False),\n",
    "    StructField(\"product_id\",StringType(),nullable = False),\n",
    "    StructField(\"category\",StringType(),nullable = False),\n",
    "    StructField(\"amount\",DoubleType(),nullable = False),\n",
    "    StructField(\"transaction_date\",StringType(),nullable = False)\n",
    "])\n",
    "\n",
    "data = [\n",
    "    (1, 101, 1001, 'Electronics', 299.88, '2023-06-15'),\n",
    "    (2, 102, 1002, 'Clothing', 59.99, '2022-11-20'),\n",
    "    (3, 103, 1003, 'Home & Kitchen', 42.75, '2021-09-07'),\n",
    "    (4, 104, 1004, 'Sports', 134.20, '2024-01-11'),\n",
    "    (5, 105, 1005, 'Electronics', 199.99, '2023-02-27'),\n",
    "    (6, 106, 1006, 'Beauty', 89.50, '2024-03-23'),\n",
    "    (7, 107, 1007, 'Books', 25.99, '2022-12-30'),\n",
    "    (8, 108, 1008, 'Home & Kitchen', 78.20, '2023-11-05'),\n",
    "    (9, 109, 1009, 'Clothing', 42.10, '2023-05-12'),\n",
    "    (10, 110, 1010, 'Electronics', 150.75, '2024-02-21')\n",
    "]\n",
    "\n",
    "total_spent_by_user = df.groupBy(\"user_id\").agg(sum(\"amount\").alias(\"total_spent\"))\n",
    "avg_spent_by_user = df.groupBy(\"user_id\").agg(avg(\"amount\").alias(\"avg_spent\"))\n",
    "amounts = df.groupBy(\"user_id\").agg(\n",
    "    sum(\"amount\").alias(\"total_spent_by_user\"),\n",
    "    avg(\"amount\").alias(\"avg_spent_by_user\"))\n",
    "\n",
    "window= Window.partitionBy(\"user_id\").orderBy(desc(\"count\"))\n",
    "fav_cat = df.groupBy(\"user_id\", \"category\").count().withColumn(\"rank\", row_number().over(window)).select(\"user_id\", \"category\")\\\n",
    ".filter(col(\"rank\")==1)\n",
    "r = amounts.join(fav_cat, \"user_id\")\n",
    "r.show()\n",
    "\n"
   ]
  },
  {
   "cell_type": "code",
   "execution_count": 20,
   "metadata": {
    "id": "zFm5U_bBe3k1"
   },
   "outputs": [],
   "source": []
  },
  {
   "cell_type": "code",
   "execution_count": 21,
   "metadata": {
    "id": "O_wQo5SRe2iT"
   },
   "outputs": [],
   "source": []
  },
  {
   "cell_type": "code",
   "execution_count": 28,
   "metadata": {
    "id": "fzB0v6EBhsbq"
   },
   "outputs": [],
   "source": [
    "df = spark.createDataFrame(data,schema)"
   ]
  },
  {
   "cell_type": "code",
   "execution_count": 33,
   "metadata": {
    "colab": {
     "base_uri": "https://localhost:8080/"
    },
    "id": "hVpFj9lQhsYh",
    "outputId": "5772410e-fb0b-4e96-b3a3-2b87c85590d2"
   },
   "outputs": [
    {
     "name": "stdout",
     "output_type": "stream",
     "text": [
      "+-------+-------------------+-----------------+\n",
      "|user_id|total_spent_by_user|avg_spent_by_user|\n",
      "+-------+-------------------+-----------------+\n",
      "|    101|             299.88|           299.88|\n",
      "|    104|              134.2|            134.2|\n",
      "|    102|              59.99|            59.99|\n",
      "|    103|              42.75|            42.75|\n",
      "|    105|             199.99|           199.99|\n",
      "|    107|              25.99|            25.99|\n",
      "|    110|             150.75|           150.75|\n",
      "|    108|               78.2|             78.2|\n",
      "|    106|               89.5|             89.5|\n",
      "|    109|               42.1|             42.1|\n",
      "+-------+-------------------+-----------------+\n",
      "\n"
     ]
    }
   ],
   "source": []
  },
  {
   "cell_type": "code",
   "execution_count": 37,
   "metadata": {
    "colab": {
     "base_uri": "https://localhost:8080/"
    },
    "id": "uTV1DH9nhsVS",
    "outputId": "5397952f-6e55-47c6-c844-ef52e4c11bba"
   },
   "outputs": [
    {
     "name": "stdout",
     "output_type": "stream",
     "text": [
      "+-------+--------------+\n",
      "|user_id|      category|\n",
      "+-------+--------------+\n",
      "|    101|   Electronics|\n",
      "|    102|      Clothing|\n",
      "|    103|Home & Kitchen|\n",
      "|    104|        Sports|\n",
      "|    105|   Electronics|\n",
      "|    106|        Beauty|\n",
      "|    107|         Books|\n",
      "|    108|Home & Kitchen|\n",
      "|    109|      Clothing|\n",
      "|    110|   Electronics|\n",
      "+-------+--------------+\n",
      "\n"
     ]
    }
   ],
   "source": []
  },
  {
   "cell_type": "code",
   "execution_count": null,
   "metadata": {
    "id": "SuGiLSL7hsSY"
   },
   "outputs": [],
   "source": []
  },
  {
   "cell_type": "code",
   "execution_count": null,
   "metadata": {
    "id": "fo3Kl4huhsNW"
   },
   "outputs": [],
   "source": []
  },
  {
   "cell_type": "code",
   "execution_count": null,
   "metadata": {
    "id": "kLyGQOgrhsKY"
   },
   "outputs": [],
   "source": []
  },
  {
   "cell_type": "code",
   "execution_count": null,
   "metadata": {
    "id": "AU3N7EsohsHh"
   },
   "outputs": [],
   "source": []
  },
  {
   "cell_type": "code",
   "execution_count": null,
   "metadata": {
    "id": "aLhKhFQuhsB2"
   },
   "outputs": [],
   "source": []
  }
 ],
 "metadata": {
  "colab": {
   "provenance": [],
   "toc_visible": true
  },
  "kernelspec": {
   "display_name": "Python 3",
   "name": "python3"
  },
  "language_info": {
   "name": "python"
  }
 },
 "nbformat": 4,
 "nbformat_minor": 0
}
